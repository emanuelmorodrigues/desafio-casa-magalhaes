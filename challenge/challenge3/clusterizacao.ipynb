{
 "cells": [
  {
   "cell_type": "code",
   "execution_count": 1,
   "metadata": {},
   "outputs": [],
   "source": [
    "import numpy as np\n",
    "import pandas as pd\n",
    "import matplotlib.pyplot as plt\n",
    "\n",
    "import os\n",
    "import sys\n",
    "import math\n",
    "\n",
    "from datetime import datetime\n",
    "from datetime import timedelta\n",
    "import datetime\n",
    "\n",
    "from math import sqrt\n",
    "from scipy import spatial\n",
    "from numpy import array\n",
    "from numpy import corrcoef\n",
    "from scipy.spatial import distance\n",
    "from sklearn.cluster import KMeans\n",
    "from sklearn.preprocessing import MinMaxScaler\n",
    "\n",
    "from sklearn.decomposition import PCA\n",
    "\n",
    "from numpy import array"
   ]
  },
  {
   "cell_type": "code",
   "execution_count": 2,
   "metadata": {},
   "outputs": [],
   "source": [
    "def dist_euclidian(v1,v2):\n",
    "    return distance.euclidean(v1, v2)\n",
    "\n",
    "def measure_cossine(v1,v2):\n",
    "    return (1 - spatial.distance.cosine(v1, v2))\n",
    "\n",
    "def measure_correlation(v1,v2):\n",
    "    return corrcoef(v1,v2)[0,1]\n",
    "\n",
    "def dist_correlation(dc):\n",
    "    return math.sqrt(2 *(1 - dc))\n",
    "\n",
    "def measure_angle(arcc):\n",
    "    return math.degrees(np.arccos(arcc))\n",
    "\n",
    "def measure(v1,v2):\n",
    "    #return measure_correlation(v1,v2)\n",
    "    return measure_correlation(v1,v2)"
   ]
  },
  {
   "cell_type": "code",
   "execution_count": 3,
   "metadata": {},
   "outputs": [],
   "source": [
    "df = pd.DataFrame()\n",
    "path = \"\"\n",
    "filename = \"iris.data\"\n",
    "file = path + str(filename)"
   ]
  },
  {
   "cell_type": "code",
   "execution_count": 6,
   "metadata": {},
   "outputs": [],
   "source": [
    "df = pd.read_csv(file, delimiter=\",\")"
   ]
  },
  {
   "cell_type": "code",
   "execution_count": 9,
   "metadata": {},
   "outputs": [
    {
     "data": {
      "text/html": [
       "<div>\n",
       "<style scoped>\n",
       "    .dataframe tbody tr th:only-of-type {\n",
       "        vertical-align: middle;\n",
       "    }\n",
       "\n",
       "    .dataframe tbody tr th {\n",
       "        vertical-align: top;\n",
       "    }\n",
       "\n",
       "    .dataframe thead th {\n",
       "        text-align: right;\n",
       "    }\n",
       "</style>\n",
       "<table border=\"1\" class=\"dataframe\">\n",
       "  <thead>\n",
       "    <tr style=\"text-align: right;\">\n",
       "      <th></th>\n",
       "      <th>5.1</th>\n",
       "      <th>3.5</th>\n",
       "      <th>1.4</th>\n",
       "      <th>0.2</th>\n",
       "      <th>Iris-setosa</th>\n",
       "    </tr>\n",
       "  </thead>\n",
       "  <tbody>\n",
       "    <tr>\n",
       "      <th>0</th>\n",
       "      <td>4.9</td>\n",
       "      <td>3.0</td>\n",
       "      <td>1.4</td>\n",
       "      <td>0.2</td>\n",
       "      <td>Iris-setosa</td>\n",
       "    </tr>\n",
       "    <tr>\n",
       "      <th>1</th>\n",
       "      <td>4.7</td>\n",
       "      <td>3.2</td>\n",
       "      <td>1.3</td>\n",
       "      <td>0.2</td>\n",
       "      <td>Iris-setosa</td>\n",
       "    </tr>\n",
       "    <tr>\n",
       "      <th>2</th>\n",
       "      <td>4.6</td>\n",
       "      <td>3.1</td>\n",
       "      <td>1.5</td>\n",
       "      <td>0.2</td>\n",
       "      <td>Iris-setosa</td>\n",
       "    </tr>\n",
       "    <tr>\n",
       "      <th>3</th>\n",
       "      <td>5.0</td>\n",
       "      <td>3.6</td>\n",
       "      <td>1.4</td>\n",
       "      <td>0.2</td>\n",
       "      <td>Iris-setosa</td>\n",
       "    </tr>\n",
       "    <tr>\n",
       "      <th>4</th>\n",
       "      <td>5.4</td>\n",
       "      <td>3.9</td>\n",
       "      <td>1.7</td>\n",
       "      <td>0.4</td>\n",
       "      <td>Iris-setosa</td>\n",
       "    </tr>\n",
       "  </tbody>\n",
       "</table>\n",
       "</div>"
      ],
      "text/plain": [
       "   5.1  3.5  1.4  0.2  Iris-setosa\n",
       "0  4.9  3.0  1.4  0.2  Iris-setosa\n",
       "1  4.7  3.2  1.3  0.2  Iris-setosa\n",
       "2  4.6  3.1  1.5  0.2  Iris-setosa\n",
       "3  5.0  3.6  1.4  0.2  Iris-setosa\n",
       "4  5.4  3.9  1.7  0.4  Iris-setosa"
      ]
     },
     "execution_count": 9,
     "metadata": {},
     "output_type": "execute_result"
    }
   ],
   "source": [
    "df.head()"
   ]
  },
  {
   "cell_type": "code",
   "execution_count": 10,
   "metadata": {},
   "outputs": [
    {
     "data": {
      "text/html": [
       "<div>\n",
       "<style scoped>\n",
       "    .dataframe tbody tr th:only-of-type {\n",
       "        vertical-align: middle;\n",
       "    }\n",
       "\n",
       "    .dataframe tbody tr th {\n",
       "        vertical-align: top;\n",
       "    }\n",
       "\n",
       "    .dataframe thead th {\n",
       "        text-align: right;\n",
       "    }\n",
       "</style>\n",
       "<table border=\"1\" class=\"dataframe\">\n",
       "  <thead>\n",
       "    <tr style=\"text-align: right;\">\n",
       "      <th></th>\n",
       "      <th>5.1</th>\n",
       "      <th>3.5</th>\n",
       "      <th>1.4</th>\n",
       "      <th>0.2</th>\n",
       "    </tr>\n",
       "  </thead>\n",
       "  <tbody>\n",
       "    <tr>\n",
       "      <th>0</th>\n",
       "      <td>4.9</td>\n",
       "      <td>3.0</td>\n",
       "      <td>1.4</td>\n",
       "      <td>0.2</td>\n",
       "    </tr>\n",
       "    <tr>\n",
       "      <th>1</th>\n",
       "      <td>4.7</td>\n",
       "      <td>3.2</td>\n",
       "      <td>1.3</td>\n",
       "      <td>0.2</td>\n",
       "    </tr>\n",
       "    <tr>\n",
       "      <th>2</th>\n",
       "      <td>4.6</td>\n",
       "      <td>3.1</td>\n",
       "      <td>1.5</td>\n",
       "      <td>0.2</td>\n",
       "    </tr>\n",
       "    <tr>\n",
       "      <th>3</th>\n",
       "      <td>5.0</td>\n",
       "      <td>3.6</td>\n",
       "      <td>1.4</td>\n",
       "      <td>0.2</td>\n",
       "    </tr>\n",
       "    <tr>\n",
       "      <th>4</th>\n",
       "      <td>5.4</td>\n",
       "      <td>3.9</td>\n",
       "      <td>1.7</td>\n",
       "      <td>0.4</td>\n",
       "    </tr>\n",
       "  </tbody>\n",
       "</table>\n",
       "</div>"
      ],
      "text/plain": [
       "   5.1  3.5  1.4  0.2\n",
       "0  4.9  3.0  1.4  0.2\n",
       "1  4.7  3.2  1.3  0.2\n",
       "2  4.6  3.1  1.5  0.2\n",
       "3  5.0  3.6  1.4  0.2\n",
       "4  5.4  3.9  1.7  0.4"
      ]
     },
     "execution_count": 10,
     "metadata": {},
     "output_type": "execute_result"
    }
   ],
   "source": [
    "columns = ['Iris-setosa']\n",
    "df.drop(columns, inplace=True, axis=1)\n",
    "df.head()"
   ]
  },
  {
   "cell_type": "code",
   "execution_count": 11,
   "metadata": {},
   "outputs": [],
   "source": [
    "df = df.apply(pd.to_numeric, errors='coerce')"
   ]
  },
  {
   "cell_type": "code",
   "execution_count": 12,
   "metadata": {},
   "outputs": [
    {
     "data": {
      "text/html": [
       "<div>\n",
       "<style scoped>\n",
       "    .dataframe tbody tr th:only-of-type {\n",
       "        vertical-align: middle;\n",
       "    }\n",
       "\n",
       "    .dataframe tbody tr th {\n",
       "        vertical-align: top;\n",
       "    }\n",
       "\n",
       "    .dataframe thead th {\n",
       "        text-align: right;\n",
       "    }\n",
       "</style>\n",
       "<table border=\"1\" class=\"dataframe\">\n",
       "  <thead>\n",
       "    <tr style=\"text-align: right;\">\n",
       "      <th></th>\n",
       "      <th>5.1</th>\n",
       "      <th>3.5</th>\n",
       "      <th>1.4</th>\n",
       "      <th>0.2</th>\n",
       "    </tr>\n",
       "  </thead>\n",
       "  <tbody>\n",
       "    <tr>\n",
       "      <th>0</th>\n",
       "      <td>4.9</td>\n",
       "      <td>3.0</td>\n",
       "      <td>1.4</td>\n",
       "      <td>0.2</td>\n",
       "    </tr>\n",
       "    <tr>\n",
       "      <th>1</th>\n",
       "      <td>4.7</td>\n",
       "      <td>3.2</td>\n",
       "      <td>1.3</td>\n",
       "      <td>0.2</td>\n",
       "    </tr>\n",
       "    <tr>\n",
       "      <th>2</th>\n",
       "      <td>4.6</td>\n",
       "      <td>3.1</td>\n",
       "      <td>1.5</td>\n",
       "      <td>0.2</td>\n",
       "    </tr>\n",
       "    <tr>\n",
       "      <th>3</th>\n",
       "      <td>5.0</td>\n",
       "      <td>3.6</td>\n",
       "      <td>1.4</td>\n",
       "      <td>0.2</td>\n",
       "    </tr>\n",
       "    <tr>\n",
       "      <th>4</th>\n",
       "      <td>5.4</td>\n",
       "      <td>3.9</td>\n",
       "      <td>1.7</td>\n",
       "      <td>0.4</td>\n",
       "    </tr>\n",
       "  </tbody>\n",
       "</table>\n",
       "</div>"
      ],
      "text/plain": [
       "   5.1  3.5  1.4  0.2\n",
       "0  4.9  3.0  1.4  0.2\n",
       "1  4.7  3.2  1.3  0.2\n",
       "2  4.6  3.1  1.5  0.2\n",
       "3  5.0  3.6  1.4  0.2\n",
       "4  5.4  3.9  1.7  0.4"
      ]
     },
     "execution_count": 12,
     "metadata": {},
     "output_type": "execute_result"
    }
   ],
   "source": [
    "df.head()"
   ]
  },
  {
   "cell_type": "code",
   "execution_count": 13,
   "metadata": {},
   "outputs": [
    {
     "data": {
      "text/plain": [
       "5.1    float64\n",
       "3.5    float64\n",
       "1.4    float64\n",
       "0.2    float64\n",
       "dtype: object"
      ]
     },
     "execution_count": 13,
     "metadata": {},
     "output_type": "execute_result"
    }
   ],
   "source": [
    "df.dtypes"
   ]
  },
  {
   "cell_type": "code",
   "execution_count": 14,
   "metadata": {},
   "outputs": [
    {
     "data": {
      "text/plain": [
       "4"
      ]
     },
     "execution_count": 14,
     "metadata": {},
     "output_type": "execute_result"
    }
   ],
   "source": [
    "len(df.columns)"
   ]
  },
  {
   "cell_type": "code",
   "execution_count": 15,
   "metadata": {},
   "outputs": [
    {
     "data": {
      "text/html": [
       "<div>\n",
       "<style scoped>\n",
       "    .dataframe tbody tr th:only-of-type {\n",
       "        vertical-align: middle;\n",
       "    }\n",
       "\n",
       "    .dataframe tbody tr th {\n",
       "        vertical-align: top;\n",
       "    }\n",
       "\n",
       "    .dataframe thead th {\n",
       "        text-align: right;\n",
       "    }\n",
       "</style>\n",
       "<table border=\"1\" class=\"dataframe\">\n",
       "  <thead>\n",
       "    <tr style=\"text-align: right;\">\n",
       "      <th></th>\n",
       "      <th>5.1</th>\n",
       "      <th>3.5</th>\n",
       "      <th>1.4</th>\n",
       "      <th>0.2</th>\n",
       "    </tr>\n",
       "  </thead>\n",
       "  <tbody>\n",
       "    <tr>\n",
       "      <th>count</th>\n",
       "      <td>149.000000</td>\n",
       "      <td>149.000000</td>\n",
       "      <td>149.000000</td>\n",
       "      <td>149.000000</td>\n",
       "    </tr>\n",
       "    <tr>\n",
       "      <th>mean</th>\n",
       "      <td>5.848322</td>\n",
       "      <td>3.051007</td>\n",
       "      <td>3.774497</td>\n",
       "      <td>1.205369</td>\n",
       "    </tr>\n",
       "    <tr>\n",
       "      <th>std</th>\n",
       "      <td>0.828594</td>\n",
       "      <td>0.433499</td>\n",
       "      <td>1.759651</td>\n",
       "      <td>0.761292</td>\n",
       "    </tr>\n",
       "    <tr>\n",
       "      <th>min</th>\n",
       "      <td>4.300000</td>\n",
       "      <td>2.000000</td>\n",
       "      <td>1.000000</td>\n",
       "      <td>0.100000</td>\n",
       "    </tr>\n",
       "    <tr>\n",
       "      <th>25%</th>\n",
       "      <td>5.100000</td>\n",
       "      <td>2.800000</td>\n",
       "      <td>1.600000</td>\n",
       "      <td>0.300000</td>\n",
       "    </tr>\n",
       "    <tr>\n",
       "      <th>50%</th>\n",
       "      <td>5.800000</td>\n",
       "      <td>3.000000</td>\n",
       "      <td>4.400000</td>\n",
       "      <td>1.300000</td>\n",
       "    </tr>\n",
       "    <tr>\n",
       "      <th>75%</th>\n",
       "      <td>6.400000</td>\n",
       "      <td>3.300000</td>\n",
       "      <td>5.100000</td>\n",
       "      <td>1.800000</td>\n",
       "    </tr>\n",
       "    <tr>\n",
       "      <th>max</th>\n",
       "      <td>7.900000</td>\n",
       "      <td>4.400000</td>\n",
       "      <td>6.900000</td>\n",
       "      <td>2.500000</td>\n",
       "    </tr>\n",
       "  </tbody>\n",
       "</table>\n",
       "</div>"
      ],
      "text/plain": [
       "              5.1         3.5         1.4         0.2\n",
       "count  149.000000  149.000000  149.000000  149.000000\n",
       "mean     5.848322    3.051007    3.774497    1.205369\n",
       "std      0.828594    0.433499    1.759651    0.761292\n",
       "min      4.300000    2.000000    1.000000    0.100000\n",
       "25%      5.100000    2.800000    1.600000    0.300000\n",
       "50%      5.800000    3.000000    4.400000    1.300000\n",
       "75%      6.400000    3.300000    5.100000    1.800000\n",
       "max      7.900000    4.400000    6.900000    2.500000"
      ]
     },
     "execution_count": 15,
     "metadata": {},
     "output_type": "execute_result"
    }
   ],
   "source": [
    "df.describe()"
   ]
  },
  {
   "cell_type": "code",
   "execution_count": 16,
   "metadata": {},
   "outputs": [
    {
     "data": {
      "image/png": "[encoded data removed]",
      "text/plain": [
       "<Figure size 1440x720 with 2 Axes>"
      ]
     },
     "metadata": {
      "needs_background": "light"
     },
     "output_type": "display_data"
    }
   ],
   "source": [
    "plt.figure(figsize=(20,10))\n",
    "plt.imshow(df.corr(), cmap=plt.cm.Reds, interpolation='nearest')\n",
    "plt.colorbar()\n",
    "tick_marks = [i for i in range(len(df.columns))]\n",
    "plt.xticks(tick_marks, df.columns, rotation='vertical')\n",
    "plt.yticks(tick_marks, df.columns)\n",
    "plt.show()"
   ]
  },
  {
   "cell_type": "code",
   "execution_count": 46,
   "metadata": {},
   "outputs": [
    {
     "data": {
      "image/png": "[encoded data removed]",
      "text/plain": [
       "<Figure size 1440x720 with 2 Axes>"
      ]
     },
     "metadata": {
      "needs_background": "light"
     },
     "output_type": "display_data"
    }
   ],
   "source": [
    "mc = df.corr()\n",
    "\n",
    "plt.figure(figsize=(20,10))\n",
    "plt.imshow(mc, cmap='seismic_r',  interpolation ='None', \n",
    "           vmin = mc.min().min(), vmax=mc.max().max())\n",
    "plt.colorbar()\n",
    "plt.axis('off')\n",
    "path = \"\"\n",
    "filename = \"iris_red.png\"\n",
    "plt.savefig(path + filename)\n",
    "plt.show()"
   ]
  },
  {
   "cell_type": "code",
   "execution_count": 18,
   "metadata": {},
   "outputs": [],
   "source": [
    "m = df.corr()\n",
    "mc = m.values\n",
    "size = len(df.T)\n",
    "\n",
    "matriz = np.zeros((size,size),float)\n",
    "for i in range (0,size):\n",
    "    for j in range (0,size):\n",
    "        matriz[i][j] = np.sqrt(2*(1-mc[i][j]))\n",
    "\n",
    "mst = np.zeros((size,size),float)"
   ]
  },
  {
   "cell_type": "code",
   "execution_count": 19,
   "metadata": {},
   "outputs": [],
   "source": [
    "prox_vertice = 0\n",
    "atual_vertice = 0\n",
    "menor = 0\n",
    "for i in range (0,size):\n",
    "    for j in range(0,size):\n",
    "        if (i !=j):\n",
    "            if (menor == 0):\n",
    "                menor =  matriz[i][j]\n",
    "                prox_vertice = i\n",
    "                atual_vertice = i\n",
    "            else:\n",
    "                if ( matriz[i][j] < menor):\n",
    "                    menor =  matriz[i][j]\n",
    "                    prox_vertice = i\n",
    "                    atual_vertice = i"
   ]
  },
  {
   "cell_type": "code",
   "execution_count": 20,
   "metadata": {},
   "outputs": [],
   "source": [
    "visitados = []\n",
    "bordas = []\n",
    "peso = 0\n",
    "menor = 0\n",
    "\n",
    "for i in range (0,size-1):\n",
    "    visitados.append(prox_vertice)\n",
    "    for j in range (0,len(visitados)):\n",
    "        for k in range (0,size):\n",
    "            if (k not in visitados):\n",
    "                if (matriz[visitados[j]][k] != 0):\n",
    "                    if (menor == 0):\n",
    "                        menor = matriz[visitados[j]][k]\n",
    "                        prox_vertice = k\n",
    "                        atual_vertice = visitados[j]\n",
    "\n",
    "                    else:\n",
    "                        if (matriz[visitados[j]][k]<menor):\n",
    "                            menor = matriz[visitados[j]][k]\n",
    "                            prox_vertice = k\n",
    "                            atual_vertice = visitados[j]\n",
    "        \n",
    "        \n",
    "    mst[atual_vertice][prox_vertice] = menor\n",
    "    mst[prox_vertice][atual_vertice] = menor\n",
    "    borda = [atual_vertice , prox_vertice , menor]\n",
    "    bordas.append(borda)\n",
    "    peso = peso + menor\n",
    "    menor = 0\n",
    "    \n",
    "visitados.append(prox_vertice)"
   ]
  },
  {
   "cell_type": "code",
   "execution_count": 22,
   "metadata": {},
   "outputs": [
    {
     "data": {
      "image/png": "[encoded data removed]",
      "text/plain": [
       "<Figure size 1440x720 with 2 Axes>"
      ]
     },
     "metadata": {
      "needs_background": "light"
     },
     "output_type": "display_data"
    }
   ],
   "source": [
    "plt.close()\n",
    "cor = np.zeros((size,size),float)\n",
    "\n",
    "for j in range (0,size):\n",
    "    for i in range (0,size):\n",
    "        cor[i][j] = mc[visitados[i]][visitados[j]]     \n",
    "\n",
    "plt.figure(figsize=(20,10))\n",
    "plt.imshow(cor, cmap='seismic_r',  interpolation ='None', \n",
    "           vmin = mc.min().min(), vmax=mc.max().max())\n",
    "plt.colorbar()\n",
    "plt.axis('off')\n",
    "path = ''#(os.path.abspath(\".\")) + \"/../../images/wine/\"\n",
    "file = path + \"iris_cluster.png\"\n",
    "plt.savefig(file)\n",
    "plt.show()"
   ]
  },
  {
   "cell_type": "code",
   "execution_count": 47,
   "metadata": {},
   "outputs": [
    {
     "data": {
      "image/png": "[encoded data removed]",
      "text/plain": [
       "<Figure size 1440x720 with 2 Axes>"
      ]
     },
     "metadata": {
      "needs_background": "light"
     },
     "output_type": "display_data"
    }
   ],
   "source": [
    "plt.figure(figsize=(20,10))\n",
    "plt.imshow(df.T.corr(), cmap=plt.cm.RdYlGn, interpolation ='None', \n",
    "           vmin = df.T.corr().min().min(), vmax=df.T.corr().max().max())\n",
    "plt.colorbar()\n",
    "plt.axis('off')\n",
    "path = '' #(os.path.abspath(\".\")) + \"/../../images/wine/\"\n",
    "filename = \"iris.png\"\n",
    "plt.savefig(path + filename)\n",
    "plt.show()"
   ]
  },
  {
   "cell_type": "code",
   "execution_count": 48,
   "metadata": {},
   "outputs": [
    {
     "data": {
      "image/png": "[encoded data removed]",
      "text/plain": [
       "<Figure size 1440x720 with 2 Axes>"
      ]
     },
     "metadata": {
      "needs_background": "light"
     },
     "output_type": "display_data"
    }
   ],
   "source": [
    "mc = df.T.corr()\n",
    "\n",
    "plt.figure(figsize=(20,10))\n",
    "plt.imshow(mc, cmap='seismic_r',  interpolation ='None', \n",
    "           vmin = mc.min().min(), vmax=mc.max().max())\n",
    "plt.colorbar()\n",
    "plt.axis('off')\n",
    "path = ''#(os.path.abspath(\".\")) + \"/../../images/wine/\"\n",
    "filename = \"iris_red.svg\"\n",
    "plt.savefig(path + filename)\n",
    "plt.show()"
   ]
  },
  {
   "cell_type": "code",
   "execution_count": 26,
   "metadata": {},
   "outputs": [
    {
     "name": "stdout",
     "output_type": "stream",
     "text": [
      "   principalcomponent1  principalcomponent2\n",
      "0            -2.733634            -0.163311\n",
      "1            -2.908037            -0.130769\n",
      "2            -2.764918            -0.304759\n",
      "3            -2.746108             0.340280\n",
      "4            -2.296797             0.753485\n",
      "[0.92395437 0.05343362]\n",
      "0.9773879874667988\n"
     ]
    }
   ],
   "source": [
    "X = df.values\n",
    "pca = PCA(n_components=2)\n",
    "principalComponents = pca.fit_transform(X)\n",
    "principalDf = pd.DataFrame(data = principalComponents\n",
    "             , columns = ['principalcomponent1', 'principalcomponent2'])\n",
    "print(principalDf.head())\n",
    "print(pca.explained_variance_ratio_)\n",
    "print(pca.explained_variance_ratio_[0] + pca.explained_variance_ratio_[1])"
   ]
  },
  {
   "cell_type": "code",
   "execution_count": 27,
   "metadata": {},
   "outputs": [
    {
     "data": {
      "image/png": "[encoded data removed]",
      "text/plain": [
       "<Figure size 1440x720 with 1 Axes>"
      ]
     },
     "metadata": {
      "needs_background": "light"
     },
     "output_type": "display_data"
    }
   ],
   "source": [
    "principalDf.plot(kind='scatter',x='principalcomponent1',y='principalcomponent2',color='red', figsize=(20,10))\n",
    "plt.show()"
   ]
  },
  {
   "cell_type": "code",
   "execution_count": 28,
   "metadata": {},
   "outputs": [],
   "source": [
    "m = df.T.corr()\n",
    "mc = m.values\n",
    "size = len(df)\n",
    "\n",
    "matriz = np.zeros((size,size),float)\n",
    "for i in range (0,size):\n",
    "    for j in range (0,size):\n",
    "        matriz[i][j] = np.sqrt(2*(1-mc[i][j]))\n",
    "\n",
    "mst = np.zeros((size,size),float)"
   ]
  },
  {
   "cell_type": "code",
   "execution_count": 29,
   "metadata": {},
   "outputs": [],
   "source": [
    "prox_vertice = 0\n",
    "atual_vertice = 0\n",
    "menor = 0\n",
    "for i in range (0,size):\n",
    "    for j in range(0,size):\n",
    "        if (i !=j):\n",
    "            if (menor == 0):\n",
    "                menor =  matriz[i][j]\n",
    "                prox_vertice = i\n",
    "                atual_vertice = i\n",
    "            else:\n",
    "                if ( matriz[i][j] < menor):\n",
    "                    menor =  matriz[i][j]\n",
    "                    prox_vertice = i\n",
    "                    atual_vertice = i"
   ]
  },
  {
   "cell_type": "code",
   "execution_count": 30,
   "metadata": {},
   "outputs": [],
   "source": [
    "visitados = []\n",
    "bordas = []\n",
    "peso = 0\n",
    "menor = 0\n",
    "\n",
    "for i in range (0,size-1):\n",
    "    visitados.append(prox_vertice)\n",
    "    for j in range (0,len(visitados)):\n",
    "        for k in range (0,size):\n",
    "            if (k not in visitados):\n",
    "                if (matriz[visitados[j]][k] != 0):\n",
    "                    if (menor == 0):\n",
    "                        menor = matriz[visitados[j]][k]\n",
    "                        prox_vertice = k\n",
    "                        atual_vertice = visitados[j]\n",
    "\n",
    "                    else:\n",
    "                        if (matriz[visitados[j]][k]<menor):\n",
    "                            menor = matriz[visitados[j]][k]\n",
    "                            prox_vertice = k\n",
    "                            atual_vertice = visitados[j]\n",
    "        \n",
    "        \n",
    "    mst[atual_vertice][prox_vertice] = menor\n",
    "    mst[prox_vertice][atual_vertice] = menor\n",
    "    borda = [atual_vertice , prox_vertice , menor]\n",
    "    bordas.append(borda)\n",
    "    peso = peso + menor\n",
    "    menor = 0\n",
    "    \n",
    "visitados.append(prox_vertice)"
   ]
  },
  {
   "cell_type": "code",
   "execution_count": 31,
   "metadata": {},
   "outputs": [
    {
     "data": {
      "text/plain": [
       "[[141, 106, 0.00493959310734903],\n",
       " [106, 100, 0.00493959310734903],\n",
       " [106, 142, 0.017188389053842713],\n",
       " [142, 120, 0.02098015562792382],\n",
       " [106, 103, 0.02367996431727459],\n",
       " [103, 104, 0.024649820182601482],\n",
       " [104, 127, 0.003842125283966262],\n",
       " [127, 131, 0.017868700634999034],\n",
       " [131, 107, 0.00621547194887952],\n",
       " [131, 112, 0.007202021616796758],\n",
       " [107, 121, 0.00812479835367298],\n",
       " [112, 113, 0.019979510085300762],\n",
       " [120, 82, 0.03084180929710694],\n",
       " [82, 115, 0.010619361288960967],\n",
       " [115, 123, 0.007992110310693036],\n",
       " [123, 124, 0.004739234796840643],\n",
       " [123, 147, 0.02225122024778802],\n",
       " [147, 136, 0.00930373458463044],\n",
       " [136, 148, 0.01018021786264923],\n",
       " [148, 116, 0.013661688163861424],\n",
       " [82, 135, 0.023853253856144813],\n",
       " [124, 108, 0.025505667716889006],\n",
       " [108, 128, 0.025204078163487662],\n",
       " [128, 132, 0.02142076508955977],\n",
       " [135, 102, 0.02755704542171405],\n",
       " [102, 105, 0.027726508456950315],\n",
       " [105, 133, 0.016677695272180458],\n",
       " [128, 114, 0.0321877289366926],\n",
       " [114, 146, 0.02195906018361915],\n",
       " [146, 71, 0.013647729882412056],\n",
       " [71, 122, 0.01991553816296538],\n",
       " [122, 138, 0.00888185577927467],\n",
       " [138, 125, 0.02165712171100542],\n",
       " [71, 111, 0.025172447412491947],\n",
       " [111, 119, 0.015448276477377395],\n",
       " [119, 143, 0.024106314238878965],\n",
       " [143, 101, 0.009848908429503169],\n",
       " [101, 110, 0.0044346237902995606],\n",
       " [110, 139, 0.016235896950348713],\n",
       " [101, 129, 0.01656117480867206],\n",
       " [129, 118, 0.01666864887813378],\n",
       " [132, 126, 0.03352003330660441],\n",
       " [126, 137, 0.011172661326894507],\n",
       " [137, 109, 0.029437878904038643],\n",
       " [109, 76, 0.030238047085610852],\n",
       " [76, 52, 0.025724092155818317],\n",
       " [52, 59, 0.02617565747805833],\n",
       " [59, 75, 0.009896564753129578],\n",
       " [75, 53, 0.010988153870493397],\n",
       " [53, 61, 0.026381166246848158],\n",
       " [75, 88, 0.028506905921965784],\n",
       " [88, 51, 0.021353388455465968],\n",
       " [51, 57, 0.011404210946949492],\n",
       " [57, 68, 0.010499507915678242],\n",
       " [68, 85, 0.007624704563491603],\n",
       " [85, 91, 0.007467800354472],\n",
       " [57, 79, 0.010664965628644297],\n",
       " [91, 80, 0.014268393311557501],\n",
       " [80, 73, 0.014772552971730466],\n",
       " [73, 49, 0.008507679321274513],\n",
       " [49, 81, 0.006685803331458768],\n",
       " [73, 74, 0.012842220933730896],\n",
       " [81, 92, 0.013633610446807946],\n",
       " [92, 64, 0.010119437326736529],\n",
       " [64, 70, 0.009101495683291362],\n",
       " [80, 96, 0.01893647395078111],\n",
       " [96, 60, 0.016043277012032637],\n",
       " [60, 50, 0.007584075294895431],\n",
       " [60, 98, 0.026171254732436918],\n",
       " [98, 66, 0.01580023725699828],\n",
       " [66, 55, 0.015506883206272444],\n",
       " [55, 95, 0.002433776231424155],\n",
       " [55, 58, 0.021816990916378686],\n",
       " [58, 90, 0.02640836014343309],\n",
       " [90, 93, 0.016103821995048288],\n",
       " [93, 77, 0.01596514541991877],\n",
       " [126, 130, 0.03290307681847974],\n",
       " [130, 89, 0.022473276530334683],\n",
       " [89, 69, 0.024493983300963265],\n",
       " [69, 54, 0.004660072463070959],\n",
       " [54, 72, 0.01807901311546006],\n",
       " [72, 62, 0.013509704865288779],\n",
       " [54, 65, 0.02668442435659313],\n",
       " [50, 56, 0.03335296430376614],\n",
       " [65, 83, 0.040000323205250765],\n",
       " [95, 94, 0.040214949810032784],\n",
       " [94, 84, 0.015654636312645104],\n",
       " [84, 87, 0.015856012221020323],\n",
       " [52, 86, 0.041040150239314066],\n",
       " [86, 140, 0.0263325956801092],\n",
       " [139, 145, 0.04187919588885192],\n",
       " [145, 134, 0.006205226238304288],\n",
       " [122, 144, 0.04490696023920814],\n",
       " [144, 67, 0.021569108717726347],\n",
       " [133, 99, 0.051116331925042106],\n",
       " [64, 78, 0.052287590847226534],\n",
       " [78, 63, 0.036416769169487835],\n",
       " [63, 97, 0.06815265726201741],\n",
       " [113, 117, 0.07759841217785256],\n",
       " [97, 40, 0.3587837638969254]]"
      ]
     },
     "execution_count": 31,
     "metadata": {},
     "output_type": "execute_result"
    }
   ],
   "source": [
    "bordas[0:100]"
   ]
  },
  {
   "cell_type": "code",
   "execution_count": 34,
   "metadata": {},
   "outputs": [
    {
     "data": {
      "image/png": "[encoded data removed]",
      "text/plain": [
       "<Figure size 1440x720 with 2 Axes>"
      ]
     },
     "metadata": {
      "needs_background": "light"
     },
     "output_type": "display_data"
    }
   ],
   "source": [
    "plt.close()\n",
    "cor = np.zeros((size,size),float)\n",
    "\n",
    "for j in range (0,size):\n",
    "    for i in range (0,size):\n",
    "        cor[i][j] = mc[visitados[i]][visitados[j]]     \n",
    "\n",
    "plt.figure(figsize=(20,10))\n",
    "plt.imshow(cor, cmap='seismic_r',  interpolation ='None', \n",
    "           vmin = mc.min().min(), vmax=mc.max().max())\n",
    "plt.colorbar()\n",
    "plt.axis('off')\n",
    "path = '' #(os.path.abspath(\".\")) + \"/../../images/wine/\"\n",
    "file = path + \"iris_cluster.png\"\n",
    "plt.savefig(file)\n",
    "plt.show()"
   ]
  },
  {
   "cell_type": "code",
   "execution_count": 35,
   "metadata": {},
   "outputs": [
    {
     "name": "stdout",
     "output_type": "stream",
     "text": [
      "1.0 0.9999878002099669 1.0\n"
     ]
    }
   ],
   "source": [
    "print(cor[0][0], cor[0][1], cor[0][2])"
   ]
  },
  {
   "cell_type": "code",
   "execution_count": 36,
   "metadata": {},
   "outputs": [
    {
     "name": "stdout",
     "output_type": "stream",
     "text": [
      "1.0 0\n",
      "0.9999878002099669 1\n",
      "1.0 2\n",
      "0.9998176935413307 3\n",
      "0.9997209032498765 4\n",
      "0.9996726335065755 5\n",
      "0.9992675222862492 6\n",
      "0.9992471503682455 7\n",
      "0.9983960587983722 8\n",
      "0.9983831493833132 9\n",
      "0.9979860817783743 10\n",
      "0.9981847336286052 11\n",
      "0.9968240005178194 12\n",
      "0.9985514193194507 13\n",
      "0.9979676785184102 14\n",
      "0.9974285003937451 15\n",
      "0.9972851558778253 16\n",
      "0.9964368462962657 17\n",
      "0.9967398408482386 18\n",
      "0.9958898674050369 19\n",
      "0.9964121089650252 20\n",
      "0.9987683777867656 21\n",
      "0.997909601420273 22\n",
      "0.9960111147189188 23\n",
      "0.994511009432519 24\n",
      "0.9991996168621604 25\n",
      "0.998213891554424 26\n",
      "0.9971947027378332 27\n",
      "0.9958741757812355 28\n",
      "0.9936422362834822 29\n",
      "0.9938180345369495 30\n",
      "0.9916298823596693 31\n",
      "0.9911837963102648 32\n",
      "0.9894795771836381 33\n",
      "0.9956849375676059 34\n",
      "0.9969887038718056 35\n",
      "0.9984745135406864 36\n",
      "0.9983022949582455 37\n",
      "0.9980349998530944 38\n",
      "0.997078904059463 39\n",
      "0.9981668147068158 40\n",
      "0.9984511797399227 41\n",
      "0.9907035834158581 42\n",
      "0.9891316841734958 43\n",
      "0.9874704942288991 44\n",
      "0.9831063393355784 45\n",
      "0.9817729397788721 46\n",
      "0.9767214242041067 47\n",
      "0.9767662017960046 48\n",
      "0.9743868640367482 49\n",
      "0.9715871537883479 50\n",
      "0.9763605194639466 51\n",
      "0.9716061479153884 52\n",
      "0.9688853872452681 53\n",
      "0.967113824550136 54\n",
      "0.9659043223805586 55\n",
      "0.9646652769876728 56\n",
      "0.9676002895060497 57\n",
      "0.9608606627911394 58\n",
      "0.9567318228005052 59\n",
      "0.9554297761821946 60\n",
      "0.9536539788845864 61\n",
      "0.9543383110779781 62\n",
      "0.9499369250144846 63\n",
      "0.9478171159458224 64\n",
      "0.9484241941322179 65\n",
      "0.9612805597327524 66\n",
      "0.9584944487714228 67\n",
      "0.9566599386896866 68\n",
      "0.9647888045519137 69\n",
      "0.9642243172462572 70\n",
      "0.9658417824168442 71\n",
      "0.9652646559968224 72\n",
      "0.9698331675376003 73\n",
      "0.9751246618799732 74\n",
      "0.9766426100031231 75\n",
      "0.9775703780712984 76\n",
      "0.9905413144294489 77\n",
      "0.9875413513374761 78\n",
      "0.9834027559537216 79\n",
      "0.9828933261355421 80\n",
      "0.9834713073395566 81\n",
      "0.9827716670840576 82\n",
      "0.978713642751834 83\n",
      "0.946447556048064 84\n",
      "0.9794462849874634 85\n",
      "0.9575386391092879 86\n",
      "0.95290898590302 87\n",
      "0.9548711797627559 88\n",
      "0.9795104015850481 89\n",
      "0.9780367754167885 90\n",
      "0.9930211205746915 91\n",
      "0.9926658985054658 92\n",
      "0.9877267158866297 93\n",
      "0.9841914494107776 94\n",
      "0.9960075939721936 95\n",
      "0.9299010591798407 96\n",
      "0.9217494822162564 97\n",
      "0.9013146145367048 98\n",
      "0.9905022638881116 99\n",
      "0.6907733498058661 100\n",
      "0.6670575548885285 101\n",
      "0.6442210901969087 102\n",
      "0.6402805583280774 103\n",
      "0.6402805583280774 104\n",
      "0.6402805583280774 105\n",
      "0.6458414689191119 106\n",
      "0.6345423631538339 107\n",
      "0.6284115551767167 108\n",
      "0.6325735751768146 109\n",
      "0.6218616673738604 110\n",
      "0.624254547005123 111\n",
      "0.6204528147202184 112\n",
      "0.6264953019156955 113\n",
      "0.6037793219410497 114\n",
      "0.6028020839065347 115\n",
      "0.6001809641901255 116\n",
      "0.6016591548504877 117\n",
      "0.594398725759732 118\n",
      "0.5913631439642254 119\n",
      "0.5964583026753042 120\n",
      "0.5977739763795101 121\n",
      "0.5929751386494678 122\n",
      "0.5785720415104793 123\n",
      "0.5787978620971096 124\n",
      "0.5733357394553948 125\n",
      "0.5678036650586921 126\n",
      "0.5595671187288618 127\n",
      "0.5508314384487406 128\n",
      "0.5412486190745345 129\n",
      "0.5551660837205232 130\n",
      "0.5677837504338883 131\n",
      "0.5713444666490518 132\n",
      "0.5890190912350668 133\n",
      "0.5479984424058407 134\n",
      "0.5585681708422645 135\n",
      "0.5467678600667322 136\n",
      "0.5623641658384058 137\n",
      "0.580317514673267 138\n",
      "0.5794025934997081 139\n",
      "0.6020481270488809 140\n",
      "0.5932841563971144 141\n",
      "0.5237715306051913 142\n",
      "0.5111418065028702 143\n",
      "0.5079356663038951 144\n",
      "0.4949988591290309 145\n",
      "0.46593032163271497 146\n",
      "0.5208617274824107 147\n",
      "0.6471940164980001 148\n"
     ]
    }
   ],
   "source": [
    "for j in range (0,size):\n",
    "    value = cor[0][j]\n",
    "    if (value > 0):\n",
    "        print(value,j )"
   ]
  },
  {
   "cell_type": "code",
   "execution_count": 37,
   "metadata": {},
   "outputs": [],
   "source": [
    "import pandas as pd\n",
    "import numpy as np\n",
    "import networkx as nx\n",
    "import matplotlib.pyplot as plt"
   ]
  },
  {
   "cell_type": "code",
   "execution_count": 38,
   "metadata": {},
   "outputs": [
    {
     "data": {
      "text/plain": [
       "<bound method DataFrame.corr of      0    1    2    3    4    5    6    7    8    9    ...  139  140  141  \\\n",
       "5.1  4.9  4.7  4.6  5.0  5.4  4.6  5.0  4.4  4.9  5.4  ...  6.7  6.9  5.8   \n",
       "3.5  3.0  3.2  3.1  3.6  3.9  3.4  3.4  2.9  3.1  3.7  ...  3.1  3.1  2.7   \n",
       "1.4  1.4  1.3  1.5  1.4  1.7  1.4  1.5  1.4  1.5  1.5  ...  5.6  5.1  5.1   \n",
       "0.2  0.2  0.2  0.2  0.2  0.4  0.3  0.2  0.2  0.1  0.2  ...  2.4  2.3  1.9   \n",
       "\n",
       "     142  143  144  145  146  147  148  \n",
       "5.1  6.8  6.7  6.7  6.3  6.5  6.2  5.9  \n",
       "3.5  3.2  3.3  3.0  2.5  3.0  3.4  3.0  \n",
       "1.4  5.9  5.7  5.2  5.0  5.2  5.4  5.1  \n",
       "0.2  2.3  2.5  2.3  1.9  2.0  2.3  1.8  \n",
       "\n",
       "[4 rows x 149 columns]>"
      ]
     },
     "execution_count": 38,
     "metadata": {},
     "output_type": "execute_result"
    }
   ],
   "source": [
    "df.T.corr"
   ]
  },
  {
   "cell_type": "code",
   "execution_count": 39,
   "metadata": {},
   "outputs": [
    {
     "data": {
      "text/html": [
       "<div>\n",
       "<style scoped>\n",
       "    .dataframe tbody tr th:only-of-type {\n",
       "        vertical-align: middle;\n",
       "    }\n",
       "\n",
       "    .dataframe tbody tr th {\n",
       "        vertical-align: top;\n",
       "    }\n",
       "\n",
       "    .dataframe thead th {\n",
       "        text-align: right;\n",
       "    }\n",
       "</style>\n",
       "<table border=\"1\" class=\"dataframe\">\n",
       "  <thead>\n",
       "    <tr style=\"text-align: right;\">\n",
       "      <th></th>\n",
       "      <th>0</th>\n",
       "      <th>1</th>\n",
       "      <th>2</th>\n",
       "      <th>3</th>\n",
       "      <th>4</th>\n",
       "      <th>5</th>\n",
       "      <th>6</th>\n",
       "      <th>7</th>\n",
       "      <th>8</th>\n",
       "      <th>9</th>\n",
       "      <th>...</th>\n",
       "      <th>139</th>\n",
       "      <th>140</th>\n",
       "      <th>141</th>\n",
       "      <th>142</th>\n",
       "      <th>143</th>\n",
       "      <th>144</th>\n",
       "      <th>145</th>\n",
       "      <th>146</th>\n",
       "      <th>147</th>\n",
       "      <th>148</th>\n",
       "    </tr>\n",
       "  </thead>\n",
       "  <tbody>\n",
       "    <tr>\n",
       "      <th>0</th>\n",
       "      <td>1.000000</td>\n",
       "      <td>0.996607</td>\n",
       "      <td>0.997397</td>\n",
       "      <td>0.992233</td>\n",
       "      <td>0.993592</td>\n",
       "      <td>0.990721</td>\n",
       "      <td>0.997118</td>\n",
       "      <td>0.998546</td>\n",
       "      <td>0.999033</td>\n",
       "      <td>0.996201</td>\n",
       "      <td>...</td>\n",
       "      <td>0.657750</td>\n",
       "      <td>0.742643</td>\n",
       "      <td>0.632574</td>\n",
       "      <td>0.642756</td>\n",
       "      <td>0.661387</td>\n",
       "      <td>0.705879</td>\n",
       "      <td>0.667114</td>\n",
       "      <td>0.708983</td>\n",
       "      <td>0.686257</td>\n",
       "      <td>0.684835</td>\n",
       "    </tr>\n",
       "    <tr>\n",
       "      <th>1</th>\n",
       "      <td>0.996607</td>\n",
       "      <td>1.000000</td>\n",
       "      <td>0.998333</td>\n",
       "      <td>0.999061</td>\n",
       "      <td>0.999377</td>\n",
       "      <td>0.998438</td>\n",
       "      <td>0.999605</td>\n",
       "      <td>0.998356</td>\n",
       "      <td>0.996986</td>\n",
       "      <td>0.999969</td>\n",
       "      <td>...</td>\n",
       "      <td>0.602231</td>\n",
       "      <td>0.689931</td>\n",
       "      <td>0.578798</td>\n",
       "      <td>0.588854</td>\n",
       "      <td>0.607300</td>\n",
       "      <td>0.651305</td>\n",
       "      <td>0.610553</td>\n",
       "      <td>0.657556</td>\n",
       "      <td>0.637631</td>\n",
       "      <td>0.636806</td>\n",
       "    </tr>\n",
       "    <tr>\n",
       "      <th>2</th>\n",
       "      <td>0.997397</td>\n",
       "      <td>0.998333</td>\n",
       "      <td>1.000000</td>\n",
       "      <td>0.996719</td>\n",
       "      <td>0.997833</td>\n",
       "      <td>0.996139</td>\n",
       "      <td>0.999546</td>\n",
       "      <td>0.999833</td>\n",
       "      <td>0.999307</td>\n",
       "      <td>0.998481</td>\n",
       "      <td>...</td>\n",
       "      <td>0.641080</td>\n",
       "      <td>0.722377</td>\n",
       "      <td>0.620453</td>\n",
       "      <td>0.629754</td>\n",
       "      <td>0.646729</td>\n",
       "      <td>0.686380</td>\n",
       "      <td>0.647851</td>\n",
       "      <td>0.694538</td>\n",
       "      <td>0.677737</td>\n",
       "      <td>0.677225</td>\n",
       "    </tr>\n",
       "    <tr>\n",
       "      <th>3</th>\n",
       "      <td>0.992233</td>\n",
       "      <td>0.999061</td>\n",
       "      <td>0.996719</td>\n",
       "      <td>1.000000</td>\n",
       "      <td>0.999883</td>\n",
       "      <td>0.999914</td>\n",
       "      <td>0.998503</td>\n",
       "      <td>0.996031</td>\n",
       "      <td>0.993761</td>\n",
       "      <td>0.999294</td>\n",
       "      <td>...</td>\n",
       "      <td>0.576858</td>\n",
       "      <td>0.664510</td>\n",
       "      <td>0.555166</td>\n",
       "      <td>0.564947</td>\n",
       "      <td>0.582896</td>\n",
       "      <td>0.625491</td>\n",
       "      <td>0.584183</td>\n",
       "      <td>0.634029</td>\n",
       "      <td>0.616536</td>\n",
       "      <td>0.616138</td>\n",
       "    </tr>\n",
       "    <tr>\n",
       "      <th>4</th>\n",
       "      <td>0.993592</td>\n",
       "      <td>0.999377</td>\n",
       "      <td>0.997833</td>\n",
       "      <td>0.999883</td>\n",
       "      <td>1.000000</td>\n",
       "      <td>0.999723</td>\n",
       "      <td>0.999179</td>\n",
       "      <td>0.997216</td>\n",
       "      <td>0.995261</td>\n",
       "      <td>0.999606</td>\n",
       "      <td>...</td>\n",
       "      <td>0.589194</td>\n",
       "      <td>0.675567</td>\n",
       "      <td>0.567804</td>\n",
       "      <td>0.577475</td>\n",
       "      <td>0.595205</td>\n",
       "      <td>0.637136</td>\n",
       "      <td>0.596356</td>\n",
       "      <td>0.645719</td>\n",
       "      <td>0.628487</td>\n",
       "      <td>0.628088</td>\n",
       "    </tr>\n",
       "    <tr>\n",
       "      <th>...</th>\n",
       "      <td>...</td>\n",
       "      <td>...</td>\n",
       "      <td>...</td>\n",
       "      <td>...</td>\n",
       "      <td>...</td>\n",
       "      <td>...</td>\n",
       "      <td>...</td>\n",
       "      <td>...</td>\n",
       "      <td>...</td>\n",
       "      <td>...</td>\n",
       "      <td>...</td>\n",
       "      <td>...</td>\n",
       "      <td>...</td>\n",
       "      <td>...</td>\n",
       "      <td>...</td>\n",
       "      <td>...</td>\n",
       "      <td>...</td>\n",
       "      <td>...</td>\n",
       "      <td>...</td>\n",
       "      <td>...</td>\n",
       "      <td>...</td>\n",
       "    </tr>\n",
       "    <tr>\n",
       "      <th>144</th>\n",
       "      <td>0.705879</td>\n",
       "      <td>0.651305</td>\n",
       "      <td>0.686380</td>\n",
       "      <td>0.625491</td>\n",
       "      <td>0.637136</td>\n",
       "      <td>0.619952</td>\n",
       "      <td>0.666813</td>\n",
       "      <td>0.692027</td>\n",
       "      <td>0.707759</td>\n",
       "      <td>0.650141</td>\n",
       "      <td>...</td>\n",
       "      <td>0.996370</td>\n",
       "      <td>0.998265</td>\n",
       "      <td>0.987727</td>\n",
       "      <td>0.990527</td>\n",
       "      <td>0.994838</td>\n",
       "      <td>1.000000</td>\n",
       "      <td>0.998465</td>\n",
       "      <td>0.997358</td>\n",
       "      <td>0.986717</td>\n",
       "      <td>0.984538</td>\n",
       "    </tr>\n",
       "    <tr>\n",
       "      <th>145</th>\n",
       "      <td>0.667114</td>\n",
       "      <td>0.610553</td>\n",
       "      <td>0.647851</td>\n",
       "      <td>0.584183</td>\n",
       "      <td>0.596356</td>\n",
       "      <td>0.578648</td>\n",
       "      <td>0.627102</td>\n",
       "      <td>0.653442</td>\n",
       "      <td>0.669840</td>\n",
       "      <td>0.609479</td>\n",
       "      <td>...</td>\n",
       "      <td>0.999123</td>\n",
       "      <td>0.993504</td>\n",
       "      <td>0.993021</td>\n",
       "      <td>0.994971</td>\n",
       "      <td>0.997667</td>\n",
       "      <td>0.998465</td>\n",
       "      <td>1.000000</td>\n",
       "      <td>0.996569</td>\n",
       "      <td>0.988469</td>\n",
       "      <td>0.986481</td>\n",
       "    </tr>\n",
       "    <tr>\n",
       "      <th>146</th>\n",
       "      <td>0.708983</td>\n",
       "      <td>0.657556</td>\n",
       "      <td>0.694538</td>\n",
       "      <td>0.634029</td>\n",
       "      <td>0.645719</td>\n",
       "      <td>0.629353</td>\n",
       "      <td>0.674239</td>\n",
       "      <td>0.698921</td>\n",
       "      <td>0.714003</td>\n",
       "      <td>0.656957</td>\n",
       "      <td>...</td>\n",
       "      <td>0.997317</td>\n",
       "      <td>0.994245</td>\n",
       "      <td>0.993642</td>\n",
       "      <td>0.995438</td>\n",
       "      <td>0.997842</td>\n",
       "      <td>0.997358</td>\n",
       "      <td>0.996569</td>\n",
       "      <td>1.000000</td>\n",
       "      <td>0.995708</td>\n",
       "      <td>0.994460</td>\n",
       "    </tr>\n",
       "    <tr>\n",
       "      <th>147</th>\n",
       "      <td>0.686257</td>\n",
       "      <td>0.637631</td>\n",
       "      <td>0.677737</td>\n",
       "      <td>0.616536</td>\n",
       "      <td>0.628487</td>\n",
       "      <td>0.612866</td>\n",
       "      <td>0.656100</td>\n",
       "      <td>0.680633</td>\n",
       "      <td>0.695249</td>\n",
       "      <td>0.637722</td>\n",
       "      <td>...</td>\n",
       "      <td>0.993087</td>\n",
       "      <td>0.980296</td>\n",
       "      <td>0.996437</td>\n",
       "      <td>0.996619</td>\n",
       "      <td>0.995967</td>\n",
       "      <td>0.986717</td>\n",
       "      <td>0.988469</td>\n",
       "      <td>0.995708</td>\n",
       "      <td>1.000000</td>\n",
       "      <td>0.999916</td>\n",
       "    </tr>\n",
       "    <tr>\n",
       "      <th>148</th>\n",
       "      <td>0.684835</td>\n",
       "      <td>0.636806</td>\n",
       "      <td>0.677225</td>\n",
       "      <td>0.616138</td>\n",
       "      <td>0.628088</td>\n",
       "      <td>0.612627</td>\n",
       "      <td>0.655472</td>\n",
       "      <td>0.679892</td>\n",
       "      <td>0.694382</td>\n",
       "      <td>0.636998</td>\n",
       "      <td>...</td>\n",
       "      <td>0.991617</td>\n",
       "      <td>0.977818</td>\n",
       "      <td>0.995890</td>\n",
       "      <td>0.995877</td>\n",
       "      <td>0.994857</td>\n",
       "      <td>0.984538</td>\n",
       "      <td>0.986481</td>\n",
       "      <td>0.994460</td>\n",
       "      <td>0.999916</td>\n",
       "      <td>1.000000</td>\n",
       "    </tr>\n",
       "  </tbody>\n",
       "</table>\n",
       "<p>149 rows × 149 columns</p>\n",
       "</div>"
      ],
      "text/plain": [
       "          0         1         2         3         4         5         6    \\\n",
       "0    1.000000  0.996607  0.997397  0.992233  0.993592  0.990721  0.997118   \n",
       "1    0.996607  1.000000  0.998333  0.999061  0.999377  0.998438  0.999605   \n",
       "2    0.997397  0.998333  1.000000  0.996719  0.997833  0.996139  0.999546   \n",
       "3    0.992233  0.999061  0.996719  1.000000  0.999883  0.999914  0.998503   \n",
       "4    0.993592  0.999377  0.997833  0.999883  1.000000  0.999723  0.999179   \n",
       "..        ...       ...       ...       ...       ...       ...       ...   \n",
       "144  0.705879  0.651305  0.686380  0.625491  0.637136  0.619952  0.666813   \n",
       "145  0.667114  0.610553  0.647851  0.584183  0.596356  0.578648  0.627102   \n",
       "146  0.708983  0.657556  0.694538  0.634029  0.645719  0.629353  0.674239   \n",
       "147  0.686257  0.637631  0.677737  0.616536  0.628487  0.612866  0.656100   \n",
       "148  0.684835  0.636806  0.677225  0.616138  0.628088  0.612627  0.655472   \n",
       "\n",
       "          7         8         9    ...       139       140       141  \\\n",
       "0    0.998546  0.999033  0.996201  ...  0.657750  0.742643  0.632574   \n",
       "1    0.998356  0.996986  0.999969  ...  0.602231  0.689931  0.578798   \n",
       "2    0.999833  0.999307  0.998481  ...  0.641080  0.722377  0.620453   \n",
       "3    0.996031  0.993761  0.999294  ...  0.576858  0.664510  0.555166   \n",
       "4    0.997216  0.995261  0.999606  ...  0.589194  0.675567  0.567804   \n",
       "..        ...       ...       ...  ...       ...       ...       ...   \n",
       "144  0.692027  0.707759  0.650141  ...  0.996370  0.998265  0.987727   \n",
       "145  0.653442  0.669840  0.609479  ...  0.999123  0.993504  0.993021   \n",
       "146  0.698921  0.714003  0.656957  ...  0.997317  0.994245  0.993642   \n",
       "147  0.680633  0.695249  0.637722  ...  0.993087  0.980296  0.996437   \n",
       "148  0.679892  0.694382  0.636998  ...  0.991617  0.977818  0.995890   \n",
       "\n",
       "          142       143       144       145       146       147       148  \n",
       "0    0.642756  0.661387  0.705879  0.667114  0.708983  0.686257  0.684835  \n",
       "1    0.588854  0.607300  0.651305  0.610553  0.657556  0.637631  0.636806  \n",
       "2    0.629754  0.646729  0.686380  0.647851  0.694538  0.677737  0.677225  \n",
       "3    0.564947  0.582896  0.625491  0.584183  0.634029  0.616536  0.616138  \n",
       "4    0.577475  0.595205  0.637136  0.596356  0.645719  0.628487  0.628088  \n",
       "..        ...       ...       ...       ...       ...       ...       ...  \n",
       "144  0.990527  0.994838  1.000000  0.998465  0.997358  0.986717  0.984538  \n",
       "145  0.994971  0.997667  0.998465  1.000000  0.996569  0.988469  0.986481  \n",
       "146  0.995438  0.997842  0.997358  0.996569  1.000000  0.995708  0.994460  \n",
       "147  0.996619  0.995967  0.986717  0.988469  0.995708  1.000000  0.999916  \n",
       "148  0.995877  0.994857  0.984538  0.986481  0.994460  0.999916  1.000000  \n",
       "\n",
       "[149 rows x 149 columns]"
      ]
     },
     "execution_count": 39,
     "metadata": {},
     "output_type": "execute_result"
    }
   ],
   "source": [
    "df.T.corr()"
   ]
  },
  {
   "cell_type": "code",
   "execution_count": 40,
   "metadata": {},
   "outputs": [],
   "source": [
    "df_corr = df.T.corr().head()"
   ]
  },
  {
   "cell_type": "code",
   "execution_count": 41,
   "metadata": {},
   "outputs": [
    {
     "data": {
      "text/plain": [
       "[141, 106, 0.00493959310734903]"
      ]
     },
     "execution_count": 41,
     "metadata": {},
     "output_type": "execute_result"
    }
   ],
   "source": [
    "bordas[0]"
   ]
  },
  {
   "cell_type": "code",
   "execution_count": 42,
   "metadata": {},
   "outputs": [],
   "source": [
    "data= np.array(bordas)"
   ]
  },
  {
   "cell_type": "code",
   "execution_count": 43,
   "metadata": {},
   "outputs": [
    {
     "data": {
      "text/plain": [
       "array([0.00493959, 0.00493959, 0.01718839, 0.02098016, 0.02367996,\n",
       "       0.02464982, 0.00384213, 0.0178687 , 0.00621547, 0.00720202,\n",
       "       0.0081248 , 0.01997951, 0.03084181, 0.01061936, 0.00799211,\n",
       "       0.00473923, 0.02225122, 0.00930373, 0.01018022, 0.01366169,\n",
       "       0.02385325, 0.02550567, 0.02520408, 0.02142077, 0.02755705,\n",
       "       0.02772651, 0.0166777 , 0.03218773, 0.02195906, 0.01364773,\n",
       "       0.01991554, 0.00888186, 0.02165712, 0.02517245, 0.01544828,\n",
       "       0.02410631, 0.00984891, 0.00443462, 0.0162359 , 0.01656117,\n",
       "       0.01666865, 0.03352003, 0.01117266, 0.02943788, 0.03023805,\n",
       "       0.02572409, 0.02617566, 0.00989656, 0.01098815, 0.02638117,\n",
       "       0.02850691, 0.02135339, 0.01140421, 0.01049951, 0.0076247 ,\n",
       "       0.0074678 , 0.01066497, 0.01426839, 0.01477255, 0.00850768,\n",
       "       0.0066858 , 0.01284222, 0.01363361, 0.01011944, 0.0091015 ,\n",
       "       0.01893647, 0.01604328, 0.00758408, 0.02617125, 0.01580024,\n",
       "       0.01550688, 0.00243378, 0.02181699, 0.02640836, 0.01610382,\n",
       "       0.01596515, 0.03290308, 0.02247328, 0.02449398, 0.00466007,\n",
       "       0.01807901, 0.0135097 , 0.02668442, 0.03335296, 0.04000032,\n",
       "       0.04021495, 0.01565464, 0.01585601, 0.04104015, 0.0263326 ,\n",
       "       0.0418792 , 0.00620523, 0.04490696, 0.02156911, 0.05111633,\n",
       "       0.05228759, 0.03641677, 0.06815266, 0.07759841, 0.35878376,\n",
       "       0.12003349, 0.03786749, 0.01043253, 0.01043253, 0.01043253,\n",
       "       0.01368515, 0.01378065, 0.0171232 , 0.0141069 , 0.01398197,\n",
       "       0.02281339, 0.01825872, 0.01697343, 0.02621971, 0.02756179,\n",
       "       0.00460826, 0.00429274, 0.00886942, 0.00700986, 0.00955699,\n",
       "       0.00957934, 0.01085158, 0.01595579, 0.00782097, 0.01379147,\n",
       "       0.01426822, 0.01475674, 0.01052859, 0.01160236, 0.01245574,\n",
       "       0.01601957, 0.00786565, 0.01607367, 0.0162041 , 0.01392623,\n",
       "       0.02533026, 0.02864095, 0.03114198, 0.00247791, 0.03345594,\n",
       "       0.03004556, 0.03393865, 0.02177437, 0.03921211, 0.0186781 ,\n",
       "       0.03330174, 0.05095733, 0.06427691])"
      ]
     },
     "execution_count": 43,
     "metadata": {},
     "output_type": "execute_result"
    }
   ],
   "source": [
    "data[:,2]"
   ]
  },
  {
   "cell_type": "code",
   "execution_count": 44,
   "metadata": {},
   "outputs": [
    {
     "name": "stdout",
     "output_type": "stream",
     "text": [
      "      v1     v2            w\n",
      "0  141.0  106.0  1012.229123\n",
      "1  106.0  100.0  1012.229123\n",
      "2  106.0  142.0   290.894044\n",
      "3  142.0  120.0   238.320444\n",
      "4  106.0  103.0   211.148967\n"
     ]
    }
   ],
   "source": [
    "dataset = pd.DataFrame({'v1':data[:,0],'v2':data[:,1], 'w':5*(1/data[:,2])})\n",
    "print(dataset.head())"
   ]
  },
  {
   "cell_type": "code",
   "execution_count": 45,
   "metadata": {},
   "outputs": [
    {
     "data": {
      "image/png": "[encoded data removed]",
      "text/plain": [
       "<Figure size 432x288 with 1 Axes>"
      ]
     },
     "metadata": {},
     "output_type": "display_data"
    }
   ],
   "source": [
    "G = nx.from_pandas_edgelist(dataset.head(5), 'v1', 'v2', edge_attr='w')\n",
    "#nx.draw(G, node_color=\"skyblue\", linewidths=20, with_labels=True, node_size=100, width=2)\n",
    "nx.draw(G, node_color=\"skyblue\", linewidths=20, with_labels=True)"
   ]
  },
  {
   "cell_type": "code",
   "execution_count": 49,
   "metadata": {},
   "outputs": [
    {
     "data": {
      "image/png": "[encoded data removed]",
      "text/plain": [
       "<Figure size 432x288 with 1 Axes>"
      ]
     },
     "metadata": {},
     "output_type": "display_data"
    }
   ],
   "source": [
    "G = nx.from_pandas_edgelist(dataset.tail(10), 'v1', 'v2')\n",
    "nx.draw(G, node_color=\"skyblue\", linewidths=20, with_labels=True, node_size=5, width=2)"
   ]
  },
  {
   "cell_type": "code",
   "execution_count": 50,
   "metadata": {},
   "outputs": [
    {
     "data": {
      "text/plain": [
       "Int64Index([  0,   1,   2,   3,   4,   5,   6,   7,   8,   9,\n",
       "            ...\n",
       "            139, 140, 141, 142, 143, 144, 145, 146, 147, 148],\n",
       "           dtype='int64', length=149)"
      ]
     },
     "execution_count": 50,
     "metadata": {},
     "output_type": "execute_result"
    }
   ],
   "source": [
    "df_corr.columns"
   ]
  },
  {
   "cell_type": "code",
   "execution_count": 51,
   "metadata": {},
   "outputs": [],
   "source": [
    "i = 0\n",
    "j = 0\n",
    "size = len(df_corr)\n",
    "vec1 = []\n",
    "vec2 = []"
   ]
  },
  {
   "cell_type": "code",
   "execution_count": 52,
   "metadata": {},
   "outputs": [],
   "source": [
    "for i in range (size):\n",
    "    for j in range(size):\n",
    "        value = df_corr[i].values[j] \n",
    "        if ( (value > 0) and (value <1)):\n",
    "            vec1.append(i)\n",
    "            vec2.append(j)"
   ]
  },
  {
   "cell_type": "code",
   "execution_count": 53,
   "metadata": {},
   "outputs": [],
   "source": [
    "df_g = pd.DataFrame({ 'from':vec1, 'to':vec2})"
   ]
  },
  {
   "cell_type": "code",
   "execution_count": 54,
   "metadata": {},
   "outputs": [
    {
     "data": {
      "text/html": [
       "<div>\n",
       "<style scoped>\n",
       "    .dataframe tbody tr th:only-of-type {\n",
       "        vertical-align: middle;\n",
       "    }\n",
       "\n",
       "    .dataframe tbody tr th {\n",
       "        vertical-align: top;\n",
       "    }\n",
       "\n",
       "    .dataframe thead th {\n",
       "        text-align: right;\n",
       "    }\n",
       "</style>\n",
       "<table border=\"1\" class=\"dataframe\">\n",
       "  <thead>\n",
       "    <tr style=\"text-align: right;\">\n",
       "      <th></th>\n",
       "      <th>from</th>\n",
       "      <th>to</th>\n",
       "    </tr>\n",
       "  </thead>\n",
       "  <tbody>\n",
       "    <tr>\n",
       "      <th>0</th>\n",
       "      <td>0</td>\n",
       "      <td>1</td>\n",
       "    </tr>\n",
       "    <tr>\n",
       "      <th>1</th>\n",
       "      <td>0</td>\n",
       "      <td>2</td>\n",
       "    </tr>\n",
       "    <tr>\n",
       "      <th>2</th>\n",
       "      <td>0</td>\n",
       "      <td>3</td>\n",
       "    </tr>\n",
       "    <tr>\n",
       "      <th>3</th>\n",
       "      <td>0</td>\n",
       "      <td>4</td>\n",
       "    </tr>\n",
       "    <tr>\n",
       "      <th>4</th>\n",
       "      <td>1</td>\n",
       "      <td>0</td>\n",
       "    </tr>\n",
       "    <tr>\n",
       "      <th>5</th>\n",
       "      <td>1</td>\n",
       "      <td>2</td>\n",
       "    </tr>\n",
       "    <tr>\n",
       "      <th>6</th>\n",
       "      <td>1</td>\n",
       "      <td>3</td>\n",
       "    </tr>\n",
       "    <tr>\n",
       "      <th>7</th>\n",
       "      <td>1</td>\n",
       "      <td>4</td>\n",
       "    </tr>\n",
       "    <tr>\n",
       "      <th>8</th>\n",
       "      <td>2</td>\n",
       "      <td>0</td>\n",
       "    </tr>\n",
       "    <tr>\n",
       "      <th>9</th>\n",
       "      <td>2</td>\n",
       "      <td>1</td>\n",
       "    </tr>\n",
       "    <tr>\n",
       "      <th>10</th>\n",
       "      <td>2</td>\n",
       "      <td>3</td>\n",
       "    </tr>\n",
       "    <tr>\n",
       "      <th>11</th>\n",
       "      <td>2</td>\n",
       "      <td>4</td>\n",
       "    </tr>\n",
       "    <tr>\n",
       "      <th>12</th>\n",
       "      <td>3</td>\n",
       "      <td>0</td>\n",
       "    </tr>\n",
       "    <tr>\n",
       "      <th>13</th>\n",
       "      <td>3</td>\n",
       "      <td>1</td>\n",
       "    </tr>\n",
       "    <tr>\n",
       "      <th>14</th>\n",
       "      <td>3</td>\n",
       "      <td>2</td>\n",
       "    </tr>\n",
       "    <tr>\n",
       "      <th>15</th>\n",
       "      <td>3</td>\n",
       "      <td>4</td>\n",
       "    </tr>\n",
       "    <tr>\n",
       "      <th>16</th>\n",
       "      <td>4</td>\n",
       "      <td>0</td>\n",
       "    </tr>\n",
       "    <tr>\n",
       "      <th>17</th>\n",
       "      <td>4</td>\n",
       "      <td>1</td>\n",
       "    </tr>\n",
       "    <tr>\n",
       "      <th>18</th>\n",
       "      <td>4</td>\n",
       "      <td>2</td>\n",
       "    </tr>\n",
       "    <tr>\n",
       "      <th>19</th>\n",
       "      <td>4</td>\n",
       "      <td>3</td>\n",
       "    </tr>\n",
       "  </tbody>\n",
       "</table>\n",
       "</div>"
      ],
      "text/plain": [
       "    from  to\n",
       "0      0   1\n",
       "1      0   2\n",
       "2      0   3\n",
       "3      0   4\n",
       "4      1   0\n",
       "5      1   2\n",
       "6      1   3\n",
       "7      1   4\n",
       "8      2   0\n",
       "9      2   1\n",
       "10     2   3\n",
       "11     2   4\n",
       "12     3   0\n",
       "13     3   1\n",
       "14     3   2\n",
       "15     3   4\n",
       "16     4   0\n",
       "17     4   1\n",
       "18     4   2\n",
       "19     4   3"
      ]
     },
     "execution_count": 54,
     "metadata": {},
     "output_type": "execute_result"
    }
   ],
   "source": [
    "# Build a dataframe with 4 connections\n",
    "df_g "
   ]
  },
  {
   "cell_type": "code",
   "execution_count": 55,
   "metadata": {},
   "outputs": [],
   "source": [
    "# Build your graph\n",
    "G = nx.from_pandas_edgelist(df_g, 'from', 'to')"
   ]
  },
  {
   "cell_type": "code",
   "execution_count": 56,
   "metadata": {},
   "outputs": [
    {
     "data": {
      "image/png": "[encoded data removed]",
      "text/plain": [
       "<Figure size 432x288 with 1 Axes>"
      ]
     },
     "metadata": {},
     "output_type": "display_data"
    }
   ],
   "source": [
    "# Plot it\n",
    "nx.draw(G, node_color=\"skyblue\", linewidths=20, with_labels=True)"
   ]
  },
  {
   "cell_type": "code",
   "execution_count": 57,
   "metadata": {},
   "outputs": [],
   "source": [
    "plt.show()"
   ]
  },
  {
   "cell_type": "code",
   "execution_count": null,
   "metadata": {},
   "outputs": [],
   "source": []
  }
 ],
 "metadata": {
  "kernelspec": {
   "display_name": "Python 3",
   "language": "python",
   "name": "python3"
  },
  "language_info": {
   "codemirror_mode": {
    "name": "ipython",
    "version": 3
   },
   "file_extension": ".py",
   "mimetype": "text/x-python",
   "name": "python",
   "nbconvert_exporter": "python",
   "pygments_lexer": "ipython3",
   "version": "3.6.8"
  }
 },
 "nbformat": 4,
 "nbformat_minor": 2
}
