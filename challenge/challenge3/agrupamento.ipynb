{
 "cells": [
  {
   "cell_type": "code",
   "execution_count": 1,
   "metadata": {},
   "outputs": [],
   "source": [
    "import numpy as np\n",
    "import pandas as pd\n",
    "import matplotlib.pyplot as plt\n",
    "\n",
    "from sklearn.cluster import KMeans\n",
    "from sklearn.preprocessing import MinMaxScaler\n",
    "\n"
   ]
  },
  {
   "cell_type": "code",
   "execution_count": 2,
   "metadata": {},
   "outputs": [],
   "source": [
    "df_iris = pd.read_csv(\"iris.data\")"
   ]
  },
  {
   "cell_type": "code",
   "execution_count": null,
   "metadata": {},
   "outputs": [],
   "source": [
    "# verificando os dados"
   ]
  },
  {
   "cell_type": "code",
   "execution_count": 3,
   "metadata": {},
   "outputs": [
    {
     "data": {
      "text/html": [
       "<div>\n",
       "<style scoped>\n",
       "    .dataframe tbody tr th:only-of-type {\n",
       "        vertical-align: middle;\n",
       "    }\n",
       "\n",
       "    .dataframe tbody tr th {\n",
       "        vertical-align: top;\n",
       "    }\n",
       "\n",
       "    .dataframe thead th {\n",
       "        text-align: right;\n",
       "    }\n",
       "</style>\n",
       "<table border=\"1\" class=\"dataframe\">\n",
       "  <thead>\n",
       "    <tr style=\"text-align: right;\">\n",
       "      <th></th>\n",
       "      <th>SepalLength</th>\n",
       "      <th>SepalWidth</th>\n",
       "      <th>PetalLength</th>\n",
       "      <th>PetalWidth</th>\n",
       "      <th>Species</th>\n",
       "    </tr>\n",
       "  </thead>\n",
       "  <tbody>\n",
       "    <tr>\n",
       "      <th>0</th>\n",
       "      <td>5.1</td>\n",
       "      <td>3.5</td>\n",
       "      <td>1.4</td>\n",
       "      <td>0.2</td>\n",
       "      <td>Iris-setosa</td>\n",
       "    </tr>\n",
       "    <tr>\n",
       "      <th>1</th>\n",
       "      <td>4.9</td>\n",
       "      <td>3.0</td>\n",
       "      <td>1.4</td>\n",
       "      <td>0.2</td>\n",
       "      <td>Iris-setosa</td>\n",
       "    </tr>\n",
       "    <tr>\n",
       "      <th>2</th>\n",
       "      <td>4.7</td>\n",
       "      <td>3.2</td>\n",
       "      <td>1.3</td>\n",
       "      <td>0.2</td>\n",
       "      <td>Iris-setosa</td>\n",
       "    </tr>\n",
       "    <tr>\n",
       "      <th>3</th>\n",
       "      <td>4.6</td>\n",
       "      <td>3.1</td>\n",
       "      <td>1.5</td>\n",
       "      <td>0.2</td>\n",
       "      <td>Iris-setosa</td>\n",
       "    </tr>\n",
       "    <tr>\n",
       "      <th>4</th>\n",
       "      <td>5.0</td>\n",
       "      <td>3.6</td>\n",
       "      <td>1.4</td>\n",
       "      <td>0.2</td>\n",
       "      <td>Iris-setosa</td>\n",
       "    </tr>\n",
       "  </tbody>\n",
       "</table>\n",
       "</div>"
      ],
      "text/plain": [
       "   SepalLength  SepalWidth  PetalLength  PetalWidth      Species\n",
       "0          5.1         3.5          1.4         0.2  Iris-setosa\n",
       "1          4.9         3.0          1.4         0.2  Iris-setosa\n",
       "2          4.7         3.2          1.3         0.2  Iris-setosa\n",
       "3          4.6         3.1          1.5         0.2  Iris-setosa\n",
       "4          5.0         3.6          1.4         0.2  Iris-setosa"
      ]
     },
     "execution_count": 3,
     "metadata": {},
     "output_type": "execute_result"
    }
   ],
   "source": [
    "df_iris.head()"
   ]
  },
  {
   "cell_type": "code",
   "execution_count": null,
   "metadata": {},
   "outputs": [],
   "source": [
    "# Dropando coluna com espécies"
   ]
  },
  {
   "cell_type": "code",
   "execution_count": 4,
   "metadata": {},
   "outputs": [],
   "source": [
    "df = df_iris.iloc[:, 0:4].values"
   ]
  },
  {
   "cell_type": "code",
   "execution_count": null,
   "metadata": {},
   "outputs": [],
   "source": [
    "# Inicializando kmeans com 3 clusters (para cada espécie)"
   ]
  },
  {
   "cell_type": "code",
   "execution_count": 6,
   "metadata": {},
   "outputs": [],
   "source": [
    "kmeans = KMeans(n_clusters = 3, init = 'random')"
   ]
  },
  {
   "cell_type": "code",
   "execution_count": null,
   "metadata": {},
   "outputs": [],
   "source": [
    "# Treinando algoritmo com iris.data"
   ]
  },
  {
   "cell_type": "code",
   "execution_count": 7,
   "metadata": {},
   "outputs": [
    {
     "data": {
      "text/plain": [
       "KMeans(algorithm='auto', copy_x=True, init='random', max_iter=300, n_clusters=3,\n",
       "       n_init=10, n_jobs=None, precompute_distances='auto', random_state=None,\n",
       "       tol=0.0001, verbose=0)"
      ]
     },
     "execution_count": 7,
     "metadata": {},
     "output_type": "execute_result"
    }
   ],
   "source": [
    "kmeans.fit(df)"
   ]
  },
  {
   "cell_type": "code",
   "execution_count": null,
   "metadata": {},
   "outputs": [],
   "source": [
    "# Centroides gerados"
   ]
  },
  {
   "cell_type": "code",
   "execution_count": 8,
   "metadata": {},
   "outputs": [
    {
     "data": {
      "text/plain": [
       "array([[5.9016129 , 2.7483871 , 4.39354839, 1.43387097],\n",
       "       [5.006     , 3.418     , 1.464     , 0.244     ],\n",
       "       [6.85      , 3.07368421, 5.74210526, 2.07105263]])"
      ]
     },
     "execution_count": 8,
     "metadata": {},
     "output_type": "execute_result"
    }
   ],
   "source": [
    "kmeans.cluster_centers_"
   ]
  },
  {
   "cell_type": "code",
   "execution_count": null,
   "metadata": {},
   "outputs": [],
   "source": [
    "# Distância com relação a cada cluster"
   ]
  },
  {
   "cell_type": "code",
   "execution_count": 9,
   "metadata": {},
   "outputs": [
    {
     "data": {
      "text/plain": [
       "array([[5.0595416 , 0.14694217, 3.41925061],\n",
       "       [5.11494335, 0.43816892, 3.39857426],\n",
       "       [5.27935534, 0.41230086, 3.56935666],\n",
       "       [5.15358977, 0.51883716, 3.42240962],\n",
       "       [5.10433388, 0.19796969, 3.46726403],\n",
       "       [4.68148797, 0.68380699, 3.14673162],\n",
       "       [5.21147652, 0.41520116, 3.51650264],\n",
       "       [5.00252706, 0.0599333 , 3.33654987],\n",
       "       [5.32798107, 0.80099438, 3.57233779],\n",
       "       [5.06790865, 0.36659514, 3.3583767 ],\n",
       "       [4.89806763, 0.48784424, 3.32449131],\n",
       "       [4.9966845 , 0.25138019, 3.31126872],\n",
       "       [5.19103612, 0.49192682, 3.46661272],\n",
       "       [5.65173594, 0.90906105, 3.90578362],\n",
       "       [5.10804455, 1.02019214, 3.646649  ],\n",
       "       [4.88564095, 1.21309192, 3.49427881],\n",
       "       [5.03090587, 0.66241377, 3.495248  ],\n",
       "       [5.02342022, 0.1509702 , 3.38444981],\n",
       "       [4.61792995, 0.82848778, 3.11245944],\n",
       "       [4.97213426, 0.39898872, 3.37738931],\n",
       "       [4.6955761 , 0.46172719, 3.07471224],\n",
       "       [4.9236821 , 0.33762701, 3.31506588],\n",
       "       [5.59713396, 0.64435394, 3.93167253],\n",
       "       [4.68193765, 0.37946278, 3.01233762],\n",
       "       [4.75095704, 0.4845534 , 3.06241269],\n",
       "       [4.90772894, 0.44180539, 3.19414543],\n",
       "       [4.84545508, 0.20782685, 3.17967089],\n",
       "       [4.93969029, 0.21815591, 3.30941724],\n",
       "       [5.01833618, 0.2097427 , 3.37648183],\n",
       "       [5.02954567, 0.40198507, 3.31272968],\n",
       "       [4.98608729, 0.40495926, 3.26550651],\n",
       "       [4.79550372, 0.42566654, 3.18083736],\n",
       "       [5.06520776, 0.72442529, 3.53142353],\n",
       "       [5.04438334, 0.9282198 , 3.57102821],\n",
       "       [5.06790865, 0.36659514, 3.3583767 ],\n",
       "       [5.25071556, 0.34524194, 3.56904033],\n",
       "       [5.02368214, 0.5287646 , 3.43783276],\n",
       "       [5.06790865, 0.36659514, 3.3583767 ],\n",
       "       [5.40750095, 0.75550778, 3.66205264],\n",
       "       [4.9664149 , 0.11131936, 3.31092773],\n",
       "       [5.14520862, 0.19181241, 3.49764675],\n",
       "       [5.38423754, 1.23935144, 3.60850034],\n",
       "       [5.40847417, 0.66602703, 3.68120561],\n",
       "       [4.78803478, 0.38986151, 3.14278239],\n",
       "       [4.59828494, 0.60761172, 3.00585191],\n",
       "       [5.11844067, 0.47370033, 3.39468045],\n",
       "       [4.92421655, 0.41855943, 3.32788568],\n",
       "       [5.23766854, 0.4673243 , 3.51879523],\n",
       "       [4.92859681, 0.41132955, 3.34104251],\n",
       "       [5.08216833, 0.14139307, 3.40601705],\n",
       "       [1.25489071, 3.97889331, 1.22697525],\n",
       "       [1.44477759, 3.57569462, 0.684141  ],\n",
       "       [1.01903626, 4.13182671, 1.17527644],\n",
       "       [2.45978458, 3.00672446, 0.73153652],\n",
       "       [1.3520017 , 3.7451291 , 0.63853451],\n",
       "       [1.88009327, 3.34604124, 0.26937898],\n",
       "       [1.28902785, 3.74149596, 0.76452634],\n",
       "       [3.37155487, 2.233829  , 1.58388575],\n",
       "       [1.41123804, 3.70928457, 0.75582717],\n",
       "       [2.58955659, 2.79706847, 0.85984838],\n",
       "       [3.27864111, 2.5937602 , 1.53611907],\n",
       "       [1.90055758, 3.16815277, 0.32426175],\n",
       "       [2.38073698, 3.07805003, 0.80841374],\n",
       "       [1.45909603, 3.64323922, 0.39674141],\n",
       "       [2.60303733, 2.50973943, 0.87269542],\n",
       "       [1.50822767, 3.59544045, 0.87306498],\n",
       "       [1.85387593, 3.36487622, 0.41229163],\n",
       "       [2.25517257, 2.9438057 , 0.53579956],\n",
       "       [1.74778451, 3.70189033, 0.6367639 ],\n",
       "       [2.49557781, 2.80399572, 0.71254917],\n",
       "       [1.37094403, 3.79431048, 0.7093731 ],\n",
       "       [2.06563694, 3.02079327, 0.46349013],\n",
       "       [1.29106776, 3.98757972, 0.69373966],\n",
       "       [1.57547425, 3.60060995, 0.43661144],\n",
       "       [1.70495043, 3.37188256, 0.54593856],\n",
       "       [1.52298639, 3.55977415, 0.74313017],\n",
       "       [1.18965415, 4.00819061, 0.98798453],\n",
       "       [0.84636259, 4.20328348, 1.06739835],\n",
       "       [1.61913335, 3.47148268, 0.21993519],\n",
       "       [2.77868071, 2.42231129, 1.0243726 ],\n",
       "       [2.6440625 , 2.73312861, 0.86396528],\n",
       "       [2.75566654, 2.61755458, 0.97566381],\n",
       "       [2.32254696, 2.82736485, 0.55763082],\n",
       "       [1.22324554, 4.06974102, 0.73395781],\n",
       "       [1.9942056 , 3.33538484, 0.57500396],\n",
       "       [1.61049622, 3.47050313, 0.68790275],\n",
       "       [1.19803047, 3.87556344, 0.92700552],\n",
       "       [1.81572464, 3.55803204, 0.61459444],\n",
       "       [2.20430516, 2.93107352, 0.50830256],\n",
       "       [2.40438484, 2.9382294 , 0.6291191 ],\n",
       "       [2.14635877, 3.23221163, 0.48790256],\n",
       "       [1.52402278, 3.54152397, 0.38266958],\n",
       "       [2.26286106, 2.94020271, 0.49185351],\n",
       "       [3.33648305, 2.27868208, 1.5485635 ],\n",
       "       [2.16211718, 3.07720523, 0.3856087 ],\n",
       "       [2.11299567, 3.00931753, 0.44284695],\n",
       "       [2.07973003, 3.05790647, 0.3449879 ],\n",
       "       [1.76829182, 3.29423618, 0.37241653],\n",
       "       [3.44291999, 1.98584793, 1.66064034],\n",
       "       [2.16527941, 2.98784069, 0.38393196],\n",
       "       [0.77731871, 5.23002792, 2.0445799 ],\n",
       "       [1.29757391, 4.13627755, 0.85382472],\n",
       "       [0.30610139, 5.2614059 , 2.05245342],\n",
       "       [0.65293923, 4.63361544, 1.33089245],\n",
       "       [0.38458885, 5.00335807, 1.72813078],\n",
       "       [1.14225684, 6.06026336, 2.87401886],\n",
       "       [2.4108337 , 3.49158875, 1.07101875],\n",
       "       [0.78573677, 5.59810611, 2.39730707],\n",
       "       [0.65454939, 4.99343489, 1.67668563],\n",
       "       [0.8435596 , 5.60613878, 2.54158648],\n",
       "       [0.74552218, 4.31086905, 1.17541367],\n",
       "       [0.75289837, 4.46273369, 1.13563278],\n",
       "       [0.25958095, 4.80907392, 1.59322675],\n",
       "       [1.48572618, 4.11232197, 0.88917352],\n",
       "       [1.30303821, 4.34524936, 1.20227628],\n",
       "       [0.68288333, 4.57523682, 1.42273608],\n",
       "       [0.50991553, 4.5953446 , 1.33403966],\n",
       "       [1.47791217, 6.21652572, 3.20105585],\n",
       "       [1.52971038, 6.4578628 , 3.20759942],\n",
       "       [1.53708992, 4.0684631 , 0.82617494],\n",
       "       [0.26952816, 5.07992047, 1.91251832],\n",
       "       [1.5334904 , 3.95277017, 0.81891975],\n",
       "       [1.31149299, 6.17566126, 2.9794431 ],\n",
       "       [1.10668455, 4.05181342, 0.74269596],\n",
       "       [0.27627819, 4.92666134, 1.75847731],\n",
       "       [0.52766931, 5.27802918, 2.14580999],\n",
       "       [1.20765678, 3.91887637, 0.62526165],\n",
       "       [1.16212743, 3.94953061, 0.70228926],\n",
       "       [0.54629196, 4.78292714, 1.4663925 ],\n",
       "       [0.59428255, 5.0624097 , 1.93773659],\n",
       "       [0.7312665 , 5.50890116, 2.31885342],\n",
       "       [1.43802246, 5.99739877, 3.07340053],\n",
       "       [0.5605572 , 4.82261257, 1.51444141],\n",
       "       [1.05631592, 4.10541009, 0.81536685],\n",
       "       [1.12133058, 4.50652771, 1.23209127],\n",
       "       [0.95311851, 5.75777665, 2.6381171 ],\n",
       "       [0.73306362, 4.84041238, 1.72401927],\n",
       "       [0.57903109, 4.55574275, 1.31541133],\n",
       "       [1.29960041, 3.83572575, 0.61011676],\n",
       "       [0.34794609, 4.75659458, 1.60532899],\n",
       "       [0.3893492 , 4.97248348, 1.77481954],\n",
       "       [0.68403844, 4.59738969, 1.53937059],\n",
       "       [1.29757391, 4.13627755, 0.85382472],\n",
       "       [0.30952112, 5.21259935, 2.00764279],\n",
       "       [0.50939919, 5.09085376, 1.94554509],\n",
       "       [0.61173881, 4.60751473, 1.44957743],\n",
       "       [1.10072376, 4.21459274, 0.89747884],\n",
       "       [0.65334214, 4.40998776, 1.17993324],\n",
       "       [0.83572418, 4.59839015, 1.50889317],\n",
       "       [1.1805499 , 4.07622276, 0.83452741]])"
      ]
     },
     "execution_count": 9,
     "metadata": {},
     "output_type": "execute_result"
    }
   ],
   "source": [
    "distance = kmeans.fit_transform(df)\n",
    "distance"
   ]
  },
  {
   "cell_type": "code",
   "execution_count": null,
   "metadata": {},
   "outputs": [],
   "source": [
    "# Array com código do cluster para cada instância"
   ]
  },
  {
   "cell_type": "code",
   "execution_count": 10,
   "metadata": {},
   "outputs": [
    {
     "data": {
      "text/plain": [
       "array([1, 1, 1, 1, 1, 1, 1, 1, 1, 1, 1, 1, 1, 1, 1, 1, 1, 1, 1, 1, 1, 1,\n",
       "       1, 1, 1, 1, 1, 1, 1, 1, 1, 1, 1, 1, 1, 1, 1, 1, 1, 1, 1, 1, 1, 1,\n",
       "       1, 1, 1, 1, 1, 1, 2, 2, 0, 2, 2, 2, 2, 2, 2, 2, 2, 2, 2, 2, 2, 2,\n",
       "       2, 2, 2, 2, 2, 2, 2, 2, 2, 2, 2, 0, 2, 2, 2, 2, 2, 2, 2, 2, 2, 2,\n",
       "       2, 2, 2, 2, 2, 2, 2, 2, 2, 2, 2, 2, 0, 2, 0, 0, 0, 0, 2, 0, 0, 0,\n",
       "       0, 0, 0, 2, 2, 0, 0, 0, 0, 2, 0, 2, 0, 2, 0, 0, 2, 2, 0, 0, 0, 0,\n",
       "       0, 2, 0, 0, 0, 0, 2, 0, 0, 0, 2, 0, 0, 0, 2, 0, 0, 2], dtype=int32)"
      ]
     },
     "execution_count": 10,
     "metadata": {},
     "output_type": "execute_result"
    }
   ],
   "source": [
    "labels = kmeans.labels_\n",
    "labels"
   ]
  },
  {
   "cell_type": "code",
   "execution_count": null,
   "metadata": {},
   "outputs": [],
   "source": [
    "# Plotando o gráfico"
   ]
  },
  {
   "cell_type": "code",
   "execution_count": 11,
   "metadata": {},
   "outputs": [
    {
     "data": {
      "text/plain": [
       "<matplotlib.legend.Legend at 0x7f7aabc6aba8>"
      ]
     },
     "execution_count": 11,
     "metadata": {},
     "output_type": "execute_result"
    },
    {
     "data": {
      "image/png": "[encoded data removed]",
      "text/plain": [
       "<Figure size 432x288 with 1 Axes>"
      ]
     },
     "metadata": {
      "needs_background": "light"
     },
     "output_type": "display_data"
    }
   ],
   "source": [
    "plt.scatter(df[:, 0], df[:,1], s = 100, c = kmeans.labels_)\n",
    "plt.scatter(kmeans.cluster_centers_[:, 0], kmeans.cluster_centers_[:, 1], s = 300, c = 'red',label = 'Centroids')\n",
    "plt.title('Iris dataset')\n",
    "plt.xlabel('SepalLength')\n",
    "plt.ylabel('SepalWidth')\n",
    "plt.legend()\n"
   ]
  },
  {
   "cell_type": "code",
   "execution_count": null,
   "metadata": {},
   "outputs": [],
   "source": [
    "plt.show()"
   ]
  },
  {
   "cell_type": "code",
   "execution_count": null,
   "metadata": {},
   "outputs": [],
   "source": []
  }
 ],
 "metadata": {
  "kernelspec": {
   "display_name": "Python 3",
   "language": "python",
   "name": "python3"
  },
  "language_info": {
   "codemirror_mode": {
    "name": "ipython",
    "version": 3
   },
   "file_extension": ".py",
   "mimetype": "text/x-python",
   "name": "python",
   "nbconvert_exporter": "python",
   "pygments_lexer": "ipython3",
   "version": "3.6.8"
  }
 },
 "nbformat": 4,
 "nbformat_minor": 2
}
